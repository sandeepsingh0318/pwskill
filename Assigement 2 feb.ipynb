{
 "cells": [
  {
   "cell_type": "code",
   "execution_count": 1,
   "id": "be42031a",
   "metadata": {},
   "outputs": [
    {
     "name": "stdout",
     "output_type": "stream",
     "text": [
      "0\n",
      "1\n",
      "2\n",
      "3\n",
      "4\n",
      "5\n",
      "6\n",
      "7\n",
      "8\n",
      "9\n",
      "10\n"
     ]
    }
   ],
   "source": [
    "# while Loop : while loop depend on their condition .when the condition is true then the loop are stop\n",
    "#            otherwise the condition is false the loop check the condition continue.\n",
    "a=0\n",
    "while a<=10:\n",
    "    print(a)\n",
    "    a=a+1\n",
    "\n"
   ]
  },
  {
   "cell_type": "code",
   "execution_count": 28,
   "id": "98da80a9",
   "metadata": {},
   "outputs": [],
   "source": [
    "# for loop: it is allows a code block to be executed multiple number of time"
   ]
  },
  {
   "cell_type": "code",
   "execution_count": 2,
   "id": "26247ef0",
   "metadata": {},
   "outputs": [
    {
     "name": "stdout",
     "output_type": "stream",
     "text": [
      "1\n",
      "2\n",
      "3\n",
      "4\n",
      "5\n",
      "6\n",
      "7\n",
      "8\n",
      "9\n",
      "10\n"
     ]
    }
   ],
   "source": [
    "for i in range(1,11):\n",
    "      print(i)\n",
    "        "
   ]
  },
  {
   "cell_type": "code",
   "execution_count": 7,
   "id": "1d6ccf51",
   "metadata": {},
   "outputs": [
    {
     "name": "stdout",
     "output_type": "stream",
     "text": [
      "Sum of natural number is  55\n",
      "product of natural number is 3628800\n"
     ]
    }
   ],
   "source": [
    "# Natural Number for using for loop\n",
    "s=0\n",
    "d=1\n",
    "for i in range(1,11):\n",
    "    s=s+i\n",
    "    d=d*i\n",
    "print(\"Sum of natural number is \",s)\n",
    "print(\"product of natural number is\",d)\n",
    "    "
   ]
  },
  {
   "cell_type": "code",
   "execution_count": 13,
   "id": "2eebb8bc",
   "metadata": {},
   "outputs": [
    {
     "name": "stdout",
     "output_type": "stream",
     "text": [
      "sum of natural number is  55\n",
      "product of natural number is  3628800\n"
     ]
    }
   ],
   "source": [
    "# Natural number for using while loop\n",
    "n=1\n",
    "s=0\n",
    "p=1\n",
    "while n<=10:\n",
    "    s=s+n\n",
    "    p=p*n\n",
    "    n=n+1\n",
    "print(\"sum of natural number is \",s)\n",
    "print(\"product of natural number is \",p)\n",
    "    "
   ]
  },
  {
   "cell_type": "code",
   "execution_count": 38,
   "id": "06e5708b",
   "metadata": {},
   "outputs": [
    {
     "name": "stdout",
     "output_type": "stream",
     "text": [
      "I\n",
      "a\n",
      "o\n",
      "e\n",
      "o\n",
      "e\n",
      "a\n",
      "a\n",
      "a\n",
      "i\n",
      "e\n",
      "i\n"
     ]
    }
   ],
   "source": [
    "# filter counter vowels\n",
    "s='I want to become a data scientist'\n",
    "for i in s:\n",
    "    if i in 'aeiouAEIOU':\n",
    "        print(i)"
   ]
  },
  {
   "cell_type": "code",
   "execution_count": 30,
   "id": "7430f1a4",
   "metadata": {},
   "outputs": [
    {
     "data": {
      "text/plain": [
       "'I want to become a data scientist'"
      ]
     },
     "execution_count": 30,
     "metadata": {},
     "output_type": "execute_result"
    }
   ],
   "source": [
    "s"
   ]
  },
  {
   "cell_type": "code",
   "execution_count": 51,
   "id": "d771cb18",
   "metadata": {},
   "outputs": [
    {
     "name": "stdout",
     "output_type": "stream",
     "text": [
      "[1, 8, 27, 64, 125, 216, 343, 512, 729, 1000, 1331, 1728, 2197, 2744, 3375, 4096, 4913, 5832, 6859, 8000, 9261, 10648, 12167, 13824, 15625, 17576, 19683, 21952, 24389, 27000, 29791, 32768, 35937, 39304, 42875, 46656, 50653, 54872, 59319, 64000, 68921, 74088, 79507, 85184, 91125, 97336, 103823, 110592, 117649, 125000, 132651, 140608, 148877, 157464, 166375, 175616, 185193, 195112, 205379, 216000, 226981, 238328, 250047, 262144, 274625, 287496, 300763, 314432, 328509, 343000, 357911, 373248, 389017, 405224, 421875, 438976, 456533, 474552, 493039, 512000, 531441, 551368, 571787, 592704, 614125, 636056, 658503, 681472, 704969, 729000, 753571, 778688, 804357, 830584, 857375, 884736, 912673, 941192, 970299, 1000000]\n",
      "DIVIDBLE NUMBER IS 4 AND 5 [1000, 8000, 27000, 64000, 125000, 216000, 343000, 512000, 729000, 1000000]\n"
     ]
    }
   ],
   "source": [
    "# create a list 1 to 100\n",
    "import math\n",
    "a=[ i**3 for i in range(1,101)]\n",
    "print(a)\n",
    "b=[]\n",
    "for i in range(1,100):\n",
    "    if (math.remainder(a[i],5)==0) and (math.remainder(a[i],4)==0):\n",
    "        b.append(a[i])\n",
    "print(\"DIVIDBLE NUMBER IS 4 AND 5\",b)\n",
    "    "
   ]
  },
  {
   "cell_type": "code",
   "execution_count": null,
   "id": "114a5209",
   "metadata": {},
   "outputs": [],
   "source": []
  }
 ],
 "metadata": {
  "kernelspec": {
   "display_name": "Python 3 (ipykernel)",
   "language": "python",
   "name": "python3"
  },
  "language_info": {
   "codemirror_mode": {
    "name": "ipython",
    "version": 3
   },
   "file_extension": ".py",
   "mimetype": "text/x-python",
   "name": "python",
   "nbconvert_exporter": "python",
   "pygments_lexer": "ipython3",
   "version": "3.9.13"
  }
 },
 "nbformat": 4,
 "nbformat_minor": 5
}
